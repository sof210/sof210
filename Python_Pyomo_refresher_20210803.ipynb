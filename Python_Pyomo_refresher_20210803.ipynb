{
  "nbformat": 4,
  "nbformat_minor": 0,
  "metadata": {
    "colab": {
      "name": "Python_Pyomo_refresher_20210803.ipynb",
      "provenance": [],
      "authorship_tag": "ABX9TyPM4heHTzQPcdx79T1Aaw1j",
      "include_colab_link": true
    },
    "kernelspec": {
      "name": "python3",
      "display_name": "Python 3"
    },
    "language_info": {
      "name": "python"
    }
  },
  "cells": [
    {
      "cell_type": "markdown",
      "metadata": {
        "id": "view-in-github",
        "colab_type": "text"
      },
      "source": [
        "<a href=\"https://colab.research.google.com/github/sof210/sof210/blob/main/Python_Pyomo_refresher_20210803.ipynb\" target=\"_parent\"><img src=\"https://colab.research.google.com/assets/colab-badge.svg\" alt=\"Open In Colab\"/></a>"
      ]
    },
    {
      "cell_type": "markdown",
      "metadata": {
        "id": "j5YI2mdPkwL0"
      },
      "source": [
        "The Jupyter notebook below contain Sof Taamallah python notes, including pyomo learning steps "
      ]
    },
    {
      "cell_type": "markdown",
      "metadata": {
        "id": "cdo2qhdYmfBz"
      },
      "source": [
        "# 1.0 Python general tutorial 2023-2024\n"
      ]
    },
    {
      "cell_type": "markdown",
      "metadata": {
        "id": "JbiarzySmrYq"
      },
      "source": [
        "# 2.0 Solving ODEs in Python\n"
      ]
    },
    {
      "cell_type": "code",
      "metadata": {
        "id": "lLeOfxEzklyu"
      },
      "source": [
        "%matplotlib inline\n",
        "import matplotlib.pyplot as plt\n",
        "import numpy as np\n",
        "from scipy.integrate import odeint"
      ],
      "execution_count": null,
      "outputs": []
    },
    {
      "cell_type": "code",
      "metadata": {
        "id": "3OsE4S5KkuSN"
      },
      "source": [
        "Cv  = 0.1     # Outlet valve constant [cubic meters/min/meter^1/2]\n",
        "A   = 1.0     # Tank area [meter^2]"
      ],
      "execution_count": null,
      "outputs": []
    },
    {
      "cell_type": "code",
      "metadata": {
        "id": "5rsqQQGjkyeM"
      },
      "source": [
        "# inlet flow rate in cubic meters/min\n",
        "def qin(t):\n",
        "    return 0.2\n",
        "\n",
        "def deriv(h,t):\n",
        "    return qin(t)/A - Cv*np.sqrt(h)/A"
      ],
      "execution_count": null,
      "outputs": []
    },
    {
      "cell_type": "code",
      "metadata": {
        "id": "W7HZZ71SlVas"
      },
      "source": [
        "IC = [0.0]\n",
        "t = np.linspace(0,400,101)\n",
        "h = odeint(deriv,IC,t)\n"
      ],
      "execution_count": null,
      "outputs": []
    },
    {
      "cell_type": "code",
      "metadata": {
        "colab": {
          "base_uri": "https://localhost:8080/",
          "height": 295
        },
        "id": "OXl_OLf9lc_V",
        "outputId": "fc75b279-187b-4550-ac46-8f9d9ad9a262"
      },
      "source": [
        "plt.plot(t,h)\n",
        "\n",
        "plt.xlabel('minutes')\n",
        "plt.ylabel('meters')\n",
        "plt.title('Gravity-Drained Tank')\n",
        "plt.legend(['Liquid Level']);\n",
        "plt.grid()"
      ],
      "execution_count": null,
      "outputs": [
        {
          "output_type": "display_data",
          "data": {
            "image/png": "[encoded data removed]",
            "text/plain": [
              "<Figure size 432x288 with 1 Axes>"
            ]
          },
          "metadata": {
            "tags": [],
            "needs_background": "light"
          }
        }
      ]
    },
    {
      "cell_type": "code",
      "metadata": {
        "id": "p7Cl6IEplrZj"
      },
      "source": [
        ""
      ],
      "execution_count": null,
      "outputs": []
    },
    {
      "cell_type": "markdown",
      "metadata": {
        "id": "WO5BXcYjnNzl"
      },
      "source": [
        "# 3.0 Optimization with Python's Pyomo\n"
      ]
    },
    {
      "cell_type": "code",
      "metadata": {
        "id": "5oalvMbGsf6I"
      },
      "source": [
        "%matplotlib inline\n",
        "import matplotlib.pyplot as plt\n",
        "import numpy as np"
      ],
      "execution_count": null,
      "outputs": []
    },
    {
      "cell_type": "code",
      "metadata": {
        "id": "-58Bb3AKsi43"
      },
      "source": [
        "x = np.linspace(1, 40, 40)\n",
        "print(x)"
      ],
      "execution_count": null,
      "outputs": []
    },
    {
      "cell_type": "code",
      "metadata": {
        "colab": {
          "base_uri": "https://localhost:8080/"
        },
        "id": "imXG9v2MsqO1",
        "outputId": "7b3b90f2-b4e5-455d-be5a-4e8dc1b9798b"
      },
      "source": [
        ""
      ],
      "execution_count": null,
      "outputs": [
        {
          "output_type": "stream",
          "text": [
            "[ 1.  2.  3.  4.  5.  6.  7.  8.  9. 10. 11. 12. 13. 14. 15. 16. 17. 18.\n",
            " 19. 20. 21. 22. 23. 24. 25. 26. 27. 28. 29. 30. 31. 32. 33. 34. 35. 36.\n",
            " 37. 38. 39. 40.]\n"
          ],
          "name": "stdout"
        }
      ]
    },
    {
      "cell_type": "code",
      "metadata": {
        "colab": {
          "base_uri": "https://localhost:8080/"
        },
        "id": "gWhGDMlvsrlt",
        "outputId": "1baeb07c-5e42-4bd8-d05e-6c0cbfd2899a"
      },
      "source": [
        "x = np.arange(1,41)\n",
        "print(x)"
      ],
      "execution_count": null,
      "outputs": [
        {
          "output_type": "stream",
          "text": [
            "[ 1  2  3  4  5  6  7  8  9 10 11 12 13 14 15 16 17 18 19 20 21 22 23 24\n",
            " 25 26 27 28 29 30 31 32 33 34 35 36 37 38 39 40]\n"
          ],
          "name": "stdout"
        }
      ]
    },
    {
      "cell_type": "code",
      "metadata": {
        "colab": {
          "base_uri": "https://localhost:8080/"
        },
        "id": "F0GCiZ6NtBJm",
        "outputId": "59edc2ad-8d4e-44ce-960e-257f928868e7"
      },
      "source": [
        "from scipy.optimize import linprog\n",
        "\n",
        "c = [-40, -30]\n",
        "\n",
        "A_ub = [[1, 0], \n",
        "        [1, 1], \n",
        "        [2, 1]]\n",
        "\n",
        "b_ub = [40, \n",
        "        80, \n",
        "        100]\n",
        "\n",
        "results = linprog(c, A_ub, b_ub)\n",
        "\n",
        "print(results.message)\n",
        "if results.success:\n",
        "    print('x =', results.x)\n",
        "    print('objective = ', results.fun)"
      ],
      "execution_count": null,
      "outputs": [
        {
          "output_type": "stream",
          "text": [
            "Optimization terminated successfully.\n",
            "x = [19.99999999 59.99999998]\n",
            "objective =  -2599.999998962053\n"
          ],
          "name": "stdout"
        },
        {
          "output_type": "stream",
          "text": [
            "/usr/local/lib/python3.7/dist-packages/numpy/core/fromnumeric.py:87: VisibleDeprecationWarning: Creating an ndarray from ragged nested sequences (which is a list-or-tuple of lists-or-tuples-or ndarrays with different lengths or shapes) is deprecated. If you meant to do this, you must specify 'dtype=object' when creating the ndarray\n",
            "  return ufunc.reduce(obj, axis, dtype, out, **passkwargs)\n"
          ],
          "name": "stderr"
        }
      ]
    },
    {
      "cell_type": "code",
      "metadata": {
        "id": "NAsHZZzzyHD7"
      },
      "source": [
        ""
      ],
      "execution_count": null,
      "outputs": []
    }
  ]
}
